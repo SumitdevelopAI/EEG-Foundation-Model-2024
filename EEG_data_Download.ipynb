{
  "nbformat": 4,
  "nbformat_minor": 0,
  "metadata": {
    "colab": {
      "provenance": [],
      "authorship_tag": "ABX9TyNhGBdRCo4mmMIj7bCpaNqv",
      "include_colab_link": true
    },
    "kernelspec": {
      "name": "python3",
      "display_name": "Python 3"
    },
    "language_info": {
      "name": "python"
    }
  },
  "cells": [
    {
      "cell_type": "markdown",
      "metadata": {
        "id": "view-in-github",
        "colab_type": "text"
      },
      "source": [
        "<a href=\"https://colab.research.google.com/github/SumitdevelopAI/EEG-Foundation-Model-2024/blob/main/EEG_data_Download.ipynb\" target=\"_parent\"><img src=\"https://colab.research.google.com/assets/colab-badge.svg\" alt=\"Open In Colab\"/></a>"
      ]
    },
    {
      "cell_type": "markdown",
      "source": [
        "**In this notebook we convert EEG data into CSV format**\n",
        "# Data format is EDF [ European Data Format ]\n",
        "\n",
        "#  **Introduction to EDF format**\n",
        "\n",
        "    1. European Data Format (EDF) is a standard file format for storing\n",
        "       and exchanging multichannel biological and physical signals,\n",
        "       including medical time series.\n",
        "\n",
        "    2. It's often used to store recordings from sensors or electrodes,\n",
        "       that capture electrical activity in the body, such as EEG\n",
        "       EEG (electroencephalography), EMG (electromyography),\n",
        "       and EOG (electrooculography).\n",
        "\n",
        "    3. It should contain 256 + (ns x 256) bytes, and the duration of each\n",
        "       data record should be a whole number of seconds.\n",
        "\n",
        "    4. Now in this note we convert edf to csv.**\n",
        "\n",
        "    "
      ],
      "metadata": {
        "id": "1L7m-iMTckDk"
      }
    },
    {
      "cell_type": "code",
      "source": [
        "pip install mne, requests"
      ],
      "metadata": {
        "colab": {
          "base_uri": "https://localhost:8080/"
        },
        "id": "vH38nqbeCFHg",
        "outputId": "d86d24c6-03c5-4e25-c552-132894276708"
      },
      "execution_count": 5,
      "outputs": [
        {
          "output_type": "stream",
          "name": "stdout",
          "text": [
            "\u001b[31mERROR: Invalid requirement: 'mne,'\u001b[0m\u001b[31m\n",
            "\u001b[0m"
          ]
        }
      ]
    },
    {
      "cell_type": "code",
      "source": [
        "# Import the necessary modules\n",
        "import requests\n",
        "import os\n",
        "\n",
        "# Define the URL of the file to download\n",
        "url = \" \"\n",
        "\n",
        "# Define the path where the downloaded file will be saved\n",
        "save_path = os.path.join(os.getcwd(), 'downloaded')\n",
        "\n",
        "# Define a Username and password\n",
        "\n",
        "Username = \" \"\n",
        "\n",
        "Password = \" \"\n",
        "\n",
        "try:\n",
        "    # Send a GET request to the URL\n",
        "    response = requests.get(url, auth=(Username, Password))\n",
        "\n",
        "    # Check the status code of the response\n",
        "    if response.status_code == 200:\n",
        "        # Open the file in write-binary mode and write the content of the response\n",
        "        with open(save_path, 'wb') as file:\n",
        "            file.write(response.content)\n",
        "        print(f\"File downloaded successfully and saved to {save_path}\")\n",
        "    elif response.status_code == 404:\n",
        "        print(f\"The requested resource could not be found. Status code: {response.status_code}\")\n",
        "    else:\n",
        "        print(f\"Failed to download the file. Status code: {response.status_code}\")\n",
        "except requests.exceptions.RequestException as e:\n",
        "    # Handle any errors that occur during the request\n",
        "    print(f\"An error occurred while trying to send a GET request: {e}\")\n",
        "except IOError as e:\n",
        "    # Handle any errors that occur while trying to write the file\n",
        "    print(f\"An error occurred while trying to write the file: {e}\")\n"
      ],
      "metadata": {
        "colab": {
          "base_uri": "https://localhost:8080/"
        },
        "id": "NWnbkIdOAV_h",
        "outputId": "cb6b2fd4-9630-4a26-c65d-b3cf2db5e397"
      },
      "execution_count": 29,
      "outputs": [
        {
          "output_type": "stream",
          "name": "stdout",
          "text": [
            "Failed to download the file. Status code: 401\n"
          ]
        }
      ]
    },
    {
      "cell_type": "code",
      "source": [],
      "metadata": {
        "id": "haHaO2OyOb_w"
      },
      "execution_count": null,
      "outputs": []
    }
  ]
}